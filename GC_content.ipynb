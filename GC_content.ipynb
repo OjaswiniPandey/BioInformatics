{
 "cells": [
  {
   "cell_type": "code",
   "execution_count": 2,
   "metadata": {},
   "outputs": [
    {
     "name": "stdout",
     "output_type": "stream",
     "text": [
      "ATTAAACTGCGAAGTACTAGGAACGTCGTGCCGGTGTCCTATACGCACCC\n",
      "52\n"
     ]
    }
   ],
   "source": [
    "# creating a random dna seq\n",
    "import random\n",
    "\n",
    "nucleotides = [\"A\",\"G\",\"T\",\"C\"]\n",
    "\n",
    "rndDNAseq = ''.join([random.choice(nucleotides) \n",
    "                      for nuc in range(50)])\n",
    "\n",
    "print (rndDNAseq)\n",
    "\n",
    "# calculating GC content\n",
    "\n",
    "def GC_content(seq):\n",
    "    return round((seq.count('C')+seq.count('G'))/len(seq)*100)\n",
    "    \n",
    "print(GC_content(rndDNAseq))\n"
   ]
  },
  {
   "cell_type": "code",
   "execution_count": null,
   "metadata": {},
   "outputs": [],
   "source": []
  }
 ],
 "metadata": {
  "kernelspec": {
   "display_name": "Python 3",
   "language": "python",
   "name": "python3"
  },
  "language_info": {
   "codemirror_mode": {
    "name": "ipython",
    "version": 3
   },
   "file_extension": ".py",
   "mimetype": "text/x-python",
   "name": "python",
   "nbconvert_exporter": "python",
   "pygments_lexer": "ipython3",
   "version": "3.8.5"
  }
 },
 "nbformat": 4,
 "nbformat_minor": 4
}
