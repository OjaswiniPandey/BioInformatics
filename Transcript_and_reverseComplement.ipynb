{
 "cells": [
  {
   "cell_type": "code",
   "execution_count": 1,
   "metadata": {},
   "outputs": [
    {
     "name": "stdout",
     "output_type": "stream",
     "text": [
      "GATTTGCCACTTTCTGGCTTGTCCTACCGGTGACCGTTGCACTATTAATA\n",
      "GAUUUGCCACUUUCUGGCUUGUCCUACCGGUGACCGUUGCACUAUUAAUA\n"
     ]
    }
   ],
   "source": [
    "# generating a transcribed strand (dna->rna)\n",
    "\n",
    "# creating a random dna seq\n",
    "import random\n",
    "\n",
    "nucleotides = [\"A\",\"G\",\"T\",\"C\"]\n",
    "\n",
    "rndDNAseq = ''.join([random.choice(nucleotides) \n",
    "                      for nuc in range(50)])\n",
    "\n",
    "print (rndDNAseq)\n",
    "\n",
    "# generating a transcribed strand \n",
    "\n",
    "def transcribe(seq):\n",
    "    return seq.replace(\"T\",\"U\")\n",
    "    \n",
    "print(transcribe(rndDNAseq))     \n",
    "\n"
   ]
  },
  {
   "cell_type": "code",
   "execution_count": 8,
   "metadata": {},
   "outputs": [
    {
     "name": "stdout",
     "output_type": "stream",
     "text": [
      "GATTTGCCACTTTCTGGCTTGTCCTACCGGTGACCGTTGCACTATTAATA\n",
      "CTAAACGGTGAAAGACCGAACAGGATGGCCACTGGCAACGTGATAATTAT\n"
     ]
    }
   ],
   "source": [
    "# generating a reverse complementary dna strand (1st approach - not python specific)\n",
    "\n",
    "# defining a dictionary to swap the nucleotides\n",
    "complementDict = {\"A\":\"T\", \"T\":\"A\", \"G\":\"C\",\"C\":\"G\"}\n",
    "\n",
    "# function to generate a complement (list comprehension is used)\n",
    "  \n",
    "def complement(seq):\n",
    "    \n",
    "    return ''.join([complementDict[nucleotide] for nucleotide in seq])\n",
    "\n",
    "print (rndDNAseq)\n",
    "print (complement(rndDNAseq))"
   ]
  },
  {
   "cell_type": "code",
   "execution_count": 13,
   "metadata": {},
   "outputs": [
    {
     "name": "stdout",
     "output_type": "stream",
     "text": [
      "GATTTGCCACTTTCTGGCTTGTCCTACCGGTGACCGTTGCACTATTAATA\n",
      "CTAAACGGTGAAAGACCGAACAGGATGGCCACTGGCAACGTGATAATTAT\n",
      "TATTAATAGTGCAACGGTCACCGGTAGGACAAGCCAGAAAGTGGCAAATC\n"
     ]
    }
   ],
   "source": [
    "# printing the complementary strand in reverse\n",
    "\n",
    "def reverseComplement(seq):\n",
    "    \n",
    "    return complement(seq)[::-1]\n",
    "\n",
    "print (rndDNAseq)\n",
    "print (complement(rndDNAseq))\n",
    "print (reverseComplement(rndDNAseq))\n",
    "\n",
    "\n"
   ]
  },
  {
   "cell_type": "code",
   "execution_count": 16,
   "metadata": {},
   "outputs": [
    {
     "name": "stdout",
     "output_type": "stream",
     "text": [
      "GATTTGCCACTTTCTGGCTTGTCCTACCGGTGACCGTTGCACTATTAATA\n",
      "CTAAACGGTGAAAGACCGAACAGGATGGCCACTGGCAACGTGATAATTAT\n",
      "TATTAATAGTGCAACGGTCACCGGTAGGACAAGCCAGAAAGTGGCAAATC\n"
     ]
    }
   ],
   "source": [
    "#generating a reverse complementary dna strand (2nd approach-python specific-using predefined python function maketrans)\n",
    "\n",
    "def reverseComplement2(seq):\n",
    "    mapping = str.maketrans('ATGC','TACG')\n",
    "    return seq.translate(mapping)[::-1]\n",
    "\n",
    "\n",
    "print (rndDNAseq)\n",
    "print (complement(rndDNAseq))\n",
    "print (reverseComplement2(rndDNAseq))    \n"
   ]
  },
  {
   "cell_type": "code",
   "execution_count": null,
   "metadata": {},
   "outputs": [],
   "source": []
  }
 ],
 "metadata": {
  "kernelspec": {
   "display_name": "Python 3",
   "language": "python",
   "name": "python3"
  },
  "language_info": {
   "codemirror_mode": {
    "name": "ipython",
    "version": 3
   },
   "file_extension": ".py",
   "mimetype": "text/x-python",
   "name": "python",
   "nbconvert_exporter": "python",
   "pygments_lexer": "ipython3",
   "version": "3.8.5"
  }
 },
 "nbformat": 4,
 "nbformat_minor": 4
}
