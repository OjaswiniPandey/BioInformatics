{
 "cells": [
  {
   "cell_type": "code",
   "execution_count": 16,
   "metadata": {},
   "outputs": [
    {
     "name": "stdout",
     "output_type": "stream",
     "text": [
      "CACAAGGTGCAGGCATAGCCTGATGCAATTAGGTATCATAGCTTTGGGCA\n",
      "{'A': 14, 'T': 12, 'G': 14, 'C': 10}\n"
     ]
    }
   ],
   "source": [
    "# counting a particular nucleotide in a randomly generated dna seq\n",
    "\n",
    "# creating a random dna seq\n",
    "import random\n",
    "\n",
    "nucleotides = [\"A\",\"G\",\"T\",\"C\"]\n",
    "\n",
    "rndDNAseq = ''.join([random.choice(nucleotides) \n",
    "                      for nuc in range(50)])\n",
    "\n",
    "print (rndDNAseq)\n",
    "\n",
    "# function to count a particular nucleotide\n",
    "\n",
    "def countNucleotide(DNAseq):\n",
    "    nucleotideDict = {\"A\" : 0,\"T\" : 0,\"G\" : 0,\"C\" : 0}\n",
    "    for nucleotide in DNAseq:\n",
    "        nucleotideDict[nucleotide] = nucleotideDict[nucleotide]+1\n",
    "    return nucleotideDict\n",
    "\n",
    "print (countNucleotide(rndDNAseq))\n",
    "        \n",
    "    \n",
    "\n"
   ]
  },
  {
   "cell_type": "code",
   "execution_count": null,
   "metadata": {},
   "outputs": [],
   "source": []
  }
 ],
 "metadata": {
  "kernelspec": {
   "display_name": "Python 3",
   "language": "python",
   "name": "python3"
  },
  "language_info": {
   "codemirror_mode": {
    "name": "ipython",
    "version": 3
   },
   "file_extension": ".py",
   "mimetype": "text/x-python",
   "name": "python",
   "nbconvert_exporter": "python",
   "pygments_lexer": "ipython3",
   "version": "3.8.5"
  }
 },
 "nbformat": 4,
 "nbformat_minor": 4
}
