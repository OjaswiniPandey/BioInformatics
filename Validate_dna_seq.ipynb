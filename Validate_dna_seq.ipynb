{
 "cells": [
  {
   "cell_type": "code",
   "execution_count": 11,
   "metadata": {},
   "outputs": [
    {
     "name": "stdout",
     "output_type": "stream",
     "text": [
      "ATGCCCTAATCTC\n",
      "False\n",
      "ATGCGATCCATCA\n"
     ]
    }
   ],
   "source": [
    "# checking whether the given sequence has A,T,G,C or else it is an invalid sequence\n",
    "\n",
    "randomSeq = \"ATGCCCTAATCTC\"\n",
    "randomSeq1 = \"ATTTDCCTAACGC\"\n",
    "randomSeq2 = \"atGCgAtCCATca\"\n",
    "\n",
    "nucleotides = [\"A\",\"T\",\"G\",\"C\"]\n",
    "def validateSeq(dna_seq):\n",
    "    dna_seq = dna_seq.upper()\n",
    "    for nucleotide in dna_seq:\n",
    "        if nucleotide not in nucleotides:\n",
    "            return False\n",
    "    return dna_seq\n",
    "    \n",
    "print(validateSeq(randomSeq))\n",
    "print(validateSeq(randomSeq1))\n",
    "print(validateSeq(randomSeq2))\n",
    "\n",
    "\n",
    "    "
   ]
  },
  {
   "cell_type": "code",
   "execution_count": null,
   "metadata": {},
   "outputs": [],
   "source": []
  }
 ],
 "metadata": {
  "kernelspec": {
   "display_name": "Python 3",
   "language": "python",
   "name": "python3"
  },
  "language_info": {
   "codemirror_mode": {
    "name": "ipython",
    "version": 3
   },
   "file_extension": ".py",
   "mimetype": "text/x-python",
   "name": "python",
   "nbconvert_exporter": "python",
   "pygments_lexer": "ipython3",
   "version": "3.8.5"
  }
 },
 "nbformat": 4,
 "nbformat_minor": 4
}
